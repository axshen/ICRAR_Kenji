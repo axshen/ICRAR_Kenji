{
 "cells": [
  {
   "cell_type": "markdown",
   "metadata": {},
   "source": [
    "# Evaluation\n",
    "\n",
    "This notebook is used in the generation of results for our paper. We are able to load the validation and test set images and annotations into memory and calculate their performance for each of our trained models.\n"
   ]
  },
  {
   "cell_type": "code",
   "execution_count": 1,
   "metadata": {},
   "outputs": [
    {
     "name": "stderr",
     "output_type": "stream",
     "text": [
      "Using TensorFlow backend.\n"
     ]
    }
   ],
   "source": [
    "import os\n",
    "import numpy as np\n",
    "from utils.convert import v_to_v2, P_RPS\n",
    "from utils.metrics import rmse, pearson, r2_score\n",
    "from utils.io import read_images, read_annots, split_annots\n",
    "from utils.rps_predictor import RPSPredictor"
   ]
  },
  {
   "cell_type": "code",
   "execution_count": 5,
   "metadata": {},
   "outputs": [],
   "source": [
    "# directories for our data\n",
    "val_kin_dir = '../../data/kinematic/dir8'\n",
    "val_den_dir = '../../data/density/dir8'\n",
    "test_kin_dir = '../../data/kinematic/dir7'\n",
    "test_den_dir = '../../data/density/dir7'"
   ]
  },
  {
   "cell_type": "code",
   "execution_count": 7,
   "metadata": {},
   "outputs": [],
   "source": [
    "# load density and kinematic map images + annotations\n",
    "n_val = int(1e4)\n",
    "X_den_val = read_images(os.path.join(val_kin_dir, '2dfv.dat'), n_val)\n",
    "X_den_val = read_images(os.path.join(val_den_dir, '2dfv.dat'), n_val)\n",
    "y_val = read_annots(os.path.join(val_den_dir, '2dfvn.dat'), n_val)\n",
    "v_val, rho_val = split_annots(y_val)\n",
    "\n",
    "n_test = int(1e4)\n",
    "X_kin_test = read_images(os.path.join(test_kin_dir, '2dfv.dat'), n_test)\n",
    "X_den_test = read_images(os.path.join(test_den_dir, '2dfv.dat'), n_test)\n",
    "X_test = X_den_test\n",
    "y_test = read_annots(os.path.join(test_den_dir, '2dfvn.dat'), n_test)\n",
    "v_test, rho_test = split_annots(y_test)"
   ]
  },
  {
   "cell_type": "code",
   "execution_count": 8,
   "metadata": {},
   "outputs": [],
   "source": [
    "# load CNN prediction model\n",
    "saved_model = '../../data/models/m9.dir_e300_density_rv/model.h5'\n",
    "rps_model = RPSPredictor()\n",
    "rps_model.load(saved_model)    "
   ]
  },
  {
   "cell_type": "code",
   "execution_count": 10,
   "metadata": {},
   "outputs": [],
   "source": [
    "# prediction (change data of interest)\n",
    "y_val_pred = rps_model.predict(X_den_val)\n",
    "y_test_pred = rps_model.predict(X_den_test)"
   ]
  },
  {
   "cell_type": "markdown",
   "metadata": {},
   "source": [
    "# Custom Stuff\n",
    "\n",
    "Here we have code that will change depending on the required task to evaluate."
   ]
  },
  {
   "cell_type": "code",
   "execution_count": 13,
   "metadata": {},
   "outputs": [
    {
     "name": "stdout",
     "output_type": "stream",
     "text": [
      "test RMSE: 1.661563552947228\n"
     ]
    }
   ],
   "source": [
    "# RMSE\n",
    "test_rmse = rmse(y_test, y_test_pred)\n",
    "print(f'test RMSE: {test_rmse}')"
   ]
  },
  {
   "cell_type": "code",
   "execution_count": 14,
   "metadata": {},
   "outputs": [
    {
     "name": "stdout",
     "output_type": "stream",
     "text": [
      "v test RMSE: 2.2032922594052957\n",
      "rho test RMSE: 0.8167558390424546\n",
      "v test R2: 0.3850218361797886\n",
      "rho test R2: 0.9087853602530863\n"
     ]
    }
   ],
   "source": [
    "# split prediction\n",
    "y_test_v_pred, y_test_rho_pred = split_annots(y_test_pred)\n",
    "\n",
    "# individual performance?\n",
    "test_v_rmse = rmse(v_test, y_test_v_pred)\n",
    "test_rho_rmse = rmse(rho_test, y_test_rho_pred)\n",
    "test_v_r2 = r2_score(v_test, y_test_v_pred)\n",
    "test_rho_r2 = r2_score(rho_test, y_test_rho_pred)\n",
    "print(f'v test RMSE: {test_v_rmse}')\n",
    "print(f'rho test RMSE: {test_rho_rmse}')\n",
    "print(f'v test R2: {test_v_r2}')\n",
    "print(f'rho test R2: {test_rho_r2}')"
   ]
  },
  {
   "cell_type": "code",
   "execution_count": null,
   "metadata": {},
   "outputs": [],
   "source": []
  }
 ],
 "metadata": {
  "kernelspec": {
   "display_name": "Python 3",
   "language": "python",
   "name": "python3"
  },
  "language_info": {
   "codemirror_mode": {
    "name": "ipython",
    "version": 3
   },
   "file_extension": ".py",
   "mimetype": "text/x-python",
   "name": "python",
   "nbconvert_exporter": "python",
   "pygments_lexer": "ipython3",
   "version": "3.6.8"
  }
 },
 "nbformat": 4,
 "nbformat_minor": 4
}
