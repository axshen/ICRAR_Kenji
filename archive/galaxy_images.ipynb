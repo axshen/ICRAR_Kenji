{
 "cells": [
  {
   "cell_type": "markdown",
   "metadata": {},
   "source": [
    "# View Images (Galaxy Plots)"
   ]
  },
  {
   "cell_type": "markdown",
   "metadata": {},
   "source": [
    "## Packages"
   ]
  },
  {
   "cell_type": "code",
   "execution_count": 1,
   "metadata": {
    "collapsed": false
   },
   "outputs": [],
   "source": [
    "import numpy as np\n",
    "import os.path\n",
    "\n",
    "# plotting packages\n",
    "%matplotlib inline\n",
    "import random\n",
    "import matplotlib\n",
    "import matplotlib.pyplot as plt\n",
    "\n",
    "# performance\n",
    "from sklearn.metrics.pairwise import cosine_similarity"
   ]
  },
  {
   "cell_type": "markdown",
   "metadata": {},
   "source": [
    "## Define Constants"
   ]
  },
  {
   "cell_type": "code",
   "execution_count": 3,
   "metadata": {
    "collapsed": false
   },
   "outputs": [
    {
     "name": "stdout",
     "output_type": "stream",
     "text": [
      "nmodel = 30000\n"
     ]
    }
   ],
   "source": [
    "# summary of images\n",
    "path_X = '../data/subsets/train_X_n30000.dat'\n",
    "path_Y = '../data/subsets/train_Y_n30000.dat'\n",
    "with open(path_X) as f:\n",
    "    nmodel = int(sum(1 for _ in f)/(50*50))\n",
    "print('nmodel = '+str(nmodel))\n",
    "\n",
    "num_classes = 2\n",
    "n_mesh=50\n",
    "\n",
    "img_rows, img_cols = n_mesh, n_mesh\n",
    "n_mesh2=n_mesh*n_mesh-1\n",
    "n_mesh3=n_mesh*n_mesh\n",
    "\n",
    "input_shape = (img_rows, img_cols, 1)"
   ]
  },
  {
   "cell_type": "markdown",
   "metadata": {},
   "source": [
    "## Read Files"
   ]
  },
  {
   "cell_type": "code",
   "execution_count": 4,
   "metadata": {
    "collapsed": false
   },
   "outputs": [],
   "source": [
    "with open(path_X) as f:\n",
    "  lines=f.readlines()\n",
    "with open(path_Y) as f:\n",
    "  lines1=f.readlines()\n",
    "\n",
    "x_train=np.zeros((nmodel,n_mesh3))\n",
    "y_train=np.zeros((nmodel,2))\n",
    "\n",
    "# For 2D density map data\n",
    "ibin=0\n",
    "jbin=-1\n",
    "for num,j in enumerate(lines):\n",
    "  jbin=jbin+1\n",
    "  tm=j.strip().split()\n",
    "  x_train[ibin,jbin]=float(tm[0])\n",
    "  if jbin == n_mesh2:\n",
    "    ibin+=1\n",
    "    jbin=-1\n",
    "\n",
    "# For output variables (in this case V_rel and rho)\n",
    "ibin=0\n",
    "for num,j in enumerate(lines1):\n",
    "  tm=j.strip().split()\n",
    "  y_train[ibin,0]=float(tm[0])\n",
    "  y_train[ibin,1]=float(tm[1])\n",
    "  ibin+=1\n",
    "    \n",
    "'''\n",
    "# Use if data (Y variable) is in different files\n",
    "\n",
    "# For morphological map (V)\n",
    "ibin=0\n",
    "for num,j in enumerate(lines1):\n",
    "  tm=j.strip().split()\n",
    "  y_train[ibin,0]=float(tm[0])\n",
    "  ibin+=1\n",
    "\n",
    "# For morphological map (rho)\n",
    "ibin=0\n",
    "for num,j in enumerate(lines2):\n",
    "  tm=j.strip().split()\n",
    "  y_train[ibin,1]=float(tm[0])\n",
    "  ibin+=1\n",
    "'''\n",
    "\n",
    "x_train = x_train.reshape(x_train.shape[0], img_rows, img_cols, 1)\n",
    "\n",
    "# Training Dimensions\n",
    "print(x_train.shape)\n",
    "print(y_train.shape)"
   ]
  },
  {
   "cell_type": "markdown",
   "metadata": {
    "collapsed": true
   },
   "source": [
    "### Comments\n",
    "\n",
    "* Looks like the training and test matrices used are equal?\n",
    "* For plotting we can select a random index between 0-60000 and show the plot\n",
    "* For training smaller network, we use random sample (100, 500, 1000) of training and test data and build the model on this smaller sample\n",
    "* Run model for various epochs (100, 300, 500, 1000) to determine optimal performance"
   ]
  },
  {
   "cell_type": "markdown",
   "metadata": {},
   "source": [
    "## Plot Galaxy Images"
   ]
  },
  {
   "cell_type": "code",
   "execution_count": 24,
   "metadata": {
    "collapsed": false
   },
   "outputs": [],
   "source": [
    "# plotting image of galaxy (function)\n",
    "random.seed(1)\n",
    "index = random.randint(0,nmodel)\n",
    "\n",
    "# write galaxy plotting function\n",
    "def plot_galaxy(data, index):\n",
    "    galaxy_choice = np.matrix(data[index])\n",
    "    print('image shape', galaxy_choice.shape)\n",
    "    plt.imshow(galaxy_choice, interpolation=\"nearest\")\n",
    "    plt.title('Galaxy #' + str(index))"
   ]
  },
  {
   "cell_type": "code",
   "execution_count": 25,
   "metadata": {
    "collapsed": false
   },
   "outputs": [
    {
     "name": "stdout",
     "output_type": "stream",
     "text": [
      "('image shape', (50, 50))\n",
      "Values of V and rho are 4.971118 and 7.67849 respectively (normalised between 0-10)\n"
     ]
    },
    {
     "data": {
      "image/png": "[encoded data removed]",
      "text/plain": [
       "<matplotlib.figure.Figure at 0x1184ea7d0>"
      ]
     },
     "metadata": {},
     "output_type": "display_data"
    }
   ],
   "source": [
    "index = 0\n",
    "plot_galaxy(x_train, index)\n",
    "print \"Values of V and rho are %s and %s respectively (normalised between 0-10)\" % (y_train[index,0], y_train[index,1])"
   ]
  },
  {
   "cell_type": "code",
   "execution_count": 27,
   "metadata": {
    "collapsed": false
   },
   "outputs": [
    {
     "name": "stdout",
     "output_type": "stream",
     "text": [
      "('image shape', (50, 50))\n",
      "V_rel and rho = 5.264511 and 9.199744 respectively\n"
     ]
    },
    {
     "data": {
      "image/png": "[encoded data removed]",
      "text/plain": [
       "<matplotlib.figure.Figure at 0x118477990>"
      ]
     },
     "metadata": {},
     "output_type": "display_data"
    }
   ],
   "source": [
    "index = 523\n",
    "plot_galaxy(x_train, index)\n",
    "print \"V_rel and rho = %s and %s respectively\" % (y_train[index,0], y_train[index,1])"
   ]
  },
  {
   "cell_type": "code",
   "execution_count": null,
   "metadata": {
    "collapsed": true
   },
   "outputs": [],
   "source": []
  }
 ],
 "metadata": {
  "kernelspec": {
   "display_name": "Python 2",
   "language": "python",
   "name": "python2"
  },
  "language_info": {
   "codemirror_mode": {
    "name": "ipython",
    "version": 2
   },
   "file_extension": ".py",
   "mimetype": "text/x-python",
   "name": "python",
   "nbconvert_exporter": "python",
   "pygments_lexer": "ipython2",
   "version": "2.7.11"
  }
 },
 "nbformat": 4,
 "nbformat_minor": 1
}
