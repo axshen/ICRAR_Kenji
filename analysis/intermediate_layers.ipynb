{
 "cells": [
  {
   "cell_type": "markdown",
   "metadata": {},
   "source": [
    "# Understand Intermediate Activations\n",
    "Aim to understand the difference between 2D kinematic and density map information"
   ]
  },
  {
   "cell_type": "code",
   "execution_count": 1,
   "metadata": {},
   "outputs": [
    {
     "name": "stderr",
     "output_type": "stream",
     "text": [
      "Using TensorFlow backend.\n"
     ]
    }
   ],
   "source": [
    "# libraries\n",
    "import keras\n",
    "from keras.models import Sequential, Model\n",
    "from keras.layers import Dense, Dropout, Flatten\n",
    "from keras.layers import Conv2D, MaxPooling2D\n",
    "from keras.models import load_model\n",
    "from keras.preprocessing import image\n",
    "\n",
    "import numpy as np\n",
    "import sys\n",
    "import os\n",
    "sys.path.append(\"../\")\n",
    "\n",
    "from utils import *\n",
    "\n",
    "import matplotlib.pyplot as plt\n",
    "from mpl_toolkits import axes_grid1\n",
    "%matplotlib inline"
   ]
  },
  {
   "cell_type": "markdown",
   "metadata": {},
   "source": [
    "## Specify test data"
   ]
  },
  {
   "cell_type": "code",
   "execution_count": 2,
   "metadata": {},
   "outputs": [],
   "source": [
    "# test file\n",
    "test_num = '8'\n",
    "pred_var = 'v'\n",
    "map_type = 'density'"
   ]
  },
  {
   "cell_type": "code",
   "execution_count": 3,
   "metadata": {},
   "outputs": [],
   "source": [
    "# Choosing parameters\n",
    "BATCH_SIZE = 64\n",
    "EPOCHS = 50\n",
    "NUM_CLASSES = 2 if (pred_var == 'rv') or (pred_var == 'P_RPS') else 1\n",
    "NUM_MAPS = 2 if map_type == 'joint' else 1\n",
    "nmodel = 90000 if test_num == '9' else 10000\n",
    "\n",
    "# parameters\n",
    "path_data = \"../../data/m1.dir_%s_%s/\" % (test_num, map_type)\n",
    "path_model = \"../../gcloud_trained/m9.dir_e300_%s_%s/\" % (map_type, pred_var)\n",
    "n_mesh = 50\n",
    "img_rows, img_cols = n_mesh, n_mesh\n",
    "n_mesh2 = n_mesh * n_mesh - 1\n",
    "n_mesh3 = n_mesh * n_mesh\n",
    "input_shape = (img_rows, img_cols, NUM_MAPS)"
   ]
  },
  {
   "cell_type": "code",
   "execution_count": 4,
   "metadata": {},
   "outputs": [
    {
     "name": "stdout",
     "output_type": "stream",
     "text": [
      "reading data from: ../../data/m1.dir_8_density/\n"
     ]
    }
   ],
   "source": [
    "# read test data and performing conversions\n",
    "(x_test, y_test) = read_data(path_data, nmodel, NUM_CLASSES, pred_var)"
   ]
  },
  {
   "cell_type": "markdown",
   "metadata": {},
   "source": [
    "## Load model"
   ]
  },
  {
   "cell_type": "code",
   "execution_count": 5,
   "metadata": {},
   "outputs": [],
   "source": [
    "# load model\n",
    "try:\n",
    "    model = load_model(path_model + \"model.h5\")\n",
    "except:\n",
    "    model = Sequential()\n",
    "    model.add(Conv2D(32, kernel_size = (3, 3),\n",
    "                     activation = 'relu',\n",
    "                     input_shape = input_shape))\n",
    "    model.add(Conv2D(64, (3, 3), activation = 'relu'))\n",
    "    model.add(MaxPooling2D(pool_size = (2, 2)))\n",
    "    model.add(Dropout(0.25))\n",
    "    model.add(Flatten())\n",
    "    model.add(Dense(128, activation = 'relu'))\n",
    "    model.add(Dropout(0.5))\n",
    "    model.add(Dense(NUM_CLASSES, activation = 'linear'))\n",
    "    model.load_weights(path_model + \"weights.h5\")\n",
    "    print(model.summary())\n",
    "    print(\"Weights loaded\")"
   ]
  },
  {
   "cell_type": "code",
   "execution_count": 6,
   "metadata": {},
   "outputs": [],
   "source": [
    "# get intermediate layers (model)\n",
    "layers = [layer.output for layer in model.layers] \n",
    "activation_model = Model(inputs = model.input, outputs = layers)"
   ]
  },
  {
   "cell_type": "markdown",
   "metadata": {},
   "source": [
    "## Load images and inference (activation)"
   ]
  },
  {
   "cell_type": "code",
   "execution_count": 7,
   "metadata": {},
   "outputs": [
    {
     "data": {
      "image/png": "[encoded data removed]",
      "text/plain": [
       "<Figure size 432x288 with 1 Axes>"
      ]
     },
     "metadata": {
      "needs_background": "light"
     },
     "output_type": "display_data"
    },
    {
     "name": "stdout",
     "output_type": "stream",
     "text": [
      "Activation dimensions\n",
      "Layers: 8\n",
      "(1, 48, 48, 32)\n"
     ]
    },
    {
     "data": {
      "image/png": "[encoded data removed]",
      "text/plain": [
       "<Figure size 288x288 with 1 Axes>"
      ]
     },
     "metadata": {
      "needs_background": "light"
     },
     "output_type": "display_data"
    }
   ],
   "source": [
    "# feed image into activations model\n",
    "index = 7179\n",
    "plot_galaxy(x_test, y_test, index)\n",
    "img_tensor = x_test[index]\n",
    "img_tensor = np.expand_dims(img_tensor, axis = 0)\n",
    "\n",
    "# inference with activation model\n",
    "activations = activation_model.predict(img_tensor)\n",
    "activations_firstLayer_array = np.array(activations[0])\n",
    "print(\"Activation dimensions\")\n",
    "print(\"Layers: %i\" % len(activations))\n",
    "print(activations_firstLayer_array.shape)\n",
    "\n",
    "# average of channels for given layer (activation outputs)\n",
    "layer = 1\n",
    "average = np.mean(activations[layer][0,:,:,:], axis = 2)\n",
    "plt.matshow(average, cmap = 'viridis')\n",
    "plt.show()"
   ]
  },
  {
   "cell_type": "markdown",
   "metadata": {},
   "source": [
    "## Activation Insight\n",
    "Looking through various activation layers for a given galaxy model we find that:\n",
    "* Layer 1 is a 48 x 48 x 32 (where 32 is the channels) array resulting from the first convolution block applied the original image. \n",
    "* Layer 2 is 46 x 46 x 64 - we are doubling the number of channels with each conv2d block. \n",
    "* Layer 3 is 23 x 23 x 64 - maxPooling to reduce the size of the images further.\n",
    "* Layer 4 is a flattened array (33856 units) from the previoud conv2d ouptut\n",
    "* Layer 5 is a flattened array (128 units) from the output of the previous dense layer\n",
    "* Layer 6 is (strangely) another dense layer (128 units).\n",
    "* Layer 7 is the output prediction (1 or 2 units depending of prediction variable)."
   ]
  },
  {
   "cell_type": "code",
   "execution_count": 8,
   "metadata": {},
   "outputs": [
    {
     "data": {
      "text/plain": [
       "<matplotlib.image.AxesImage at 0x11ff51b38>"
      ]
     },
     "execution_count": 8,
     "metadata": {},
     "output_type": "execute_result"
    },
    {
     "data": {
      "image/png": "[encoded data removed]",
      "text/plain": [
       "<Figure size 288x288 with 1 Axes>"
      ]
     },
     "metadata": {
      "needs_background": "light"
     },
     "output_type": "display_data"
    }
   ],
   "source": [
    "# investigate individual channels (activation outputs)\n",
    "layer = 3\n",
    "channel = 9\n",
    "plt.matshow(activations[layer][0, :, :, channel], cmap = 'viridis')"
   ]
  },
  {
   "cell_type": "code",
   "execution_count": 9,
   "metadata": {},
   "outputs": [
    {
     "data": {
      "image/png": "[encoded data removed]",
      "text/plain": [
       "<Figure size 288x288 with 1 Axes>"
      ]
     },
     "metadata": {
      "needs_background": "light"
     },
     "output_type": "display_data"
    },
    {
     "data": {
      "image/png": "[encoded data removed]",
      "text/plain": [
       "<Figure size 288x288 with 1 Axes>"
      ]
     },
     "metadata": {
      "needs_background": "light"
     },
     "output_type": "display_data"
    },
    {
     "data": {
      "image/png": "[encoded data removed]",
      "text/plain": [
       "<Figure size 432x288 with 1 Axes>"
      ]
     },
     "metadata": {
      "needs_background": "light"
     },
     "output_type": "display_data"
    }
   ],
   "source": [
    "# comparing two plots\n",
    "index1 = 7179\n",
    "index2 = 9079\n",
    "layer = 1\n",
    "\n",
    "img_tensor1 = x_test[index1]\n",
    "img_tensor1 = np.expand_dims(img_tensor1, axis=0)\n",
    "img_tensor2 = x_test[index2]\n",
    "img_tensor2 = np.expand_dims(img_tensor2, axis=0)\n",
    "\n",
    "activations1 = activation_model.predict(img_tensor1)\n",
    "activations2 = activation_model.predict(img_tensor2)\n",
    "\n",
    "# average activation difference\n",
    "average1 = np.mean(activations1[layer][0,:,:,:], axis = 2)\n",
    "plt.matshow(average1, cmap = 'viridis')\n",
    "plt.show()\n",
    "average2 = np.mean(activations2[layer][0,:,:,:], axis = 2)\n",
    "plt.matshow(average2, cmap = 'viridis')\n",
    "plt.show()\n",
    "\n",
    "# histogram of activation values\n",
    "average_flat1 = average1.flatten()\n",
    "average_flat2 = average2.flatten()\n",
    "bins = np.linspace(0, 0.05, 100)\n",
    "plt.hist(average_flat2, color = 'red', alpha = 0.3, bins = bins)\n",
    "plt.hist(average_flat1, color = 'green', alpha = 0.3, bins = bins)\n",
    "plt.show()"
   ]
  },
  {
   "cell_type": "code",
   "execution_count": 10,
   "metadata": {},
   "outputs": [],
   "source": [
    "# multiple plots (assumes 1x3 plotting shape)\n",
    "def plot_many_activations(X, y, indices, activation_model, layer, save):\n",
    "\n",
    "    n = len(indices)\n",
    "\n",
    "    # use TeX\n",
    "    plt.rc('text', usetex = True)\n",
    "    plt.rc('font', family = 'serif')\n",
    "    plt.rc('font', size = 16)\n",
    "    plt.figure(figsize = (12, 8))\n",
    "    \n",
    "    # subplot structure\n",
    "    ax = [plt.subplot(1, 3, i+1) for i in range(n)] \n",
    "    for a in ax:\n",
    "        a.set_xticklabels([])\n",
    "        a.set_yticklabels([])\n",
    "    plt.subplots_adjust(wspace=0.05, hspace=0.05)\n",
    "    \n",
    "    ax[0].set_title(r'$\\rho{}_{IGM}$ = ' + str(round(y[indices[0]][0],3)))\n",
    "    ax[0].set_ylabel('2D Density', size = 'large')\n",
    "    ax[1].set_title(r'$\\rho{}_{IGM}$ = ' + str(round(y[indices[1]][0],3)))\n",
    "    ax[2].set_title(r'$\\rho{}_{IGM}$ = ' + str(round(y[indices[2]][0],3)))\n",
    "\n",
    "    # activation outputs\n",
    "    for i in range(n):\n",
    "        ax = plt.subplot(1, 3, (i+1))\n",
    "        index = indices[i]\n",
    "        img = X[index]\n",
    "        img_tensor = np.expand_dims(img, axis = 0)\n",
    "        activations = activation_model.predict(img_tensor)\n",
    "        average = np.mean(activations[layer][0, :, :, :], axis = 2)\n",
    "        ax.imshow(average, vmin = 0, vmax = 0.05, cmap = 'viridis')\n",
    "        \n",
    "    if save:\n",
    "        plt.savefig('FigX.png')\n",
    "\n",
    "#     ax.colorbar(fraction = 0.05, pad = 0.04)\n",
    "    plt.show()"
   ]
  },
  {
   "cell_type": "code",
   "execution_count": 11,
   "metadata": {},
   "outputs": [
    {
     "name": "stderr",
     "output_type": "stream",
     "text": [
      "/usr/local/lib/python3.5/site-packages/matplotlib/figure.py:98: MatplotlibDeprecationWarning: \n",
      "Adding an axes using the same arguments as a previous axes currently reuses the earlier instance.  In a future version, a new instance will always be created and returned.  Meanwhile, this warning can be suppressed, and the future behavior ensured, by passing a unique label to each axes instance.\n",
      "  \"Adding an axes using the same arguments as a previous axes \"\n"
     ]
    },
    {
     "data": {
      "image/png": "[encoded data removed]",
      "text/plain": [
       "<Figure size 864x576 with 3 Axes>"
      ]
     },
     "metadata": {
      "needs_background": "light"
     },
     "output_type": "display_data"
    }
   ],
   "source": [
    "# plotting three sets of activations\n",
    "indices = [7179, 8779, 9079]\n",
    "plot_many_activations(x_test, y_test, indices, activation_model, 1, True)"
   ]
  },
  {
   "cell_type": "code",
   "execution_count": null,
   "metadata": {},
   "outputs": [],
   "source": []
  }
 ],
 "metadata": {
  "kernelspec": {
   "display_name": "Python 3",
   "language": "python",
   "name": "python3"
  },
  "language_info": {
   "codemirror_mode": {
    "name": "ipython",
    "version": 3
   },
   "file_extension": ".py",
   "mimetype": "text/x-python",
   "name": "python",
   "nbconvert_exporter": "python",
   "pygments_lexer": "ipython3",
   "version": "3.5.1"
  }
 },
 "nbformat": 4,
 "nbformat_minor": 2
}
