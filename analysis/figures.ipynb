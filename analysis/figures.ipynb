{
 "cells": [
  {
   "cell_type": "markdown",
   "metadata": {},
   "source": [
    "# Figure 2"
   ]
  },
  {
   "cell_type": "code",
   "execution_count": 1,
   "metadata": {},
   "outputs": [],
   "source": [
    "# libraries\n",
    "import random\n",
    "import numpy as np\n",
    "import matplotlib.pyplot as plt\n",
    "from utils import *\n",
    "%matplotlib inline"
   ]
  },
  {
   "cell_type": "code",
   "execution_count": 2,
   "metadata": {},
   "outputs": [
    {
     "name": "stdout",
     "output_type": "stream",
     "text": [
      "reading data from: ../data/m1.dir_8_density/\n",
      "reading data from: ../data/m1.dir_8_kinematics/\n"
     ]
    }
   ],
   "source": [
    "# reading data\n",
    "path_density = '../data/m1.dir_8_density/'\n",
    "path_kinematics = '../data/m1.dir_8_kinematics/'\n",
    "num_classes = 1\n",
    "nmodel = int(1e4)\n",
    "param = 'rho'\n",
    "X_density,y_density = read_data(path_density,nmodel,num_classes,param)\n",
    "X_kinematics,y_kinematics = read_data(path_kinematics,nmodel,num_classes,param)"
   ]
  },
  {
   "cell_type": "code",
   "execution_count": 3,
   "metadata": {},
   "outputs": [
    {
     "name": "stdout",
     "output_type": "stream",
     "text": [
      "9.91532993\n",
      "(array([9000, 9001, 9002, 9003, 9004, 9005, 9006, 9007, 9008, 9009, 9010,\n",
      "       9011, 9012, 9013, 9014, 9015, 9016, 9017, 9018, 9019, 9020, 9021,\n",
      "       9022, 9023, 9024, 9025, 9026, 9027, 9028, 9029, 9030, 9031, 9032,\n",
      "       9033, 9034, 9035, 9036, 9037, 9038, 9039, 9040, 9041, 9042, 9043,\n",
      "       9044, 9045, 9046, 9047, 9048, 9049, 9050, 9051, 9052, 9053, 9054,\n",
      "       9055, 9056, 9057, 9058, 9059, 9060, 9061, 9062, 9063, 9064, 9065,\n",
      "       9066, 9067, 9068, 9069, 9070, 9071, 9072, 9073, 9074, 9075, 9076,\n",
      "       9077, 9078, 9079, 9080, 9081, 9082, 9083, 9084, 9085, 9086, 9087,\n",
      "       9088, 9089, 9090, 9091, 9092, 9093, 9094, 9095, 9096, 9097, 9098,\n",
      "       9099]), array([0, 0, 0, 0, 0, 0, 0, 0, 0, 0, 0, 0, 0, 0, 0, 0, 0, 0, 0, 0, 0, 0,\n",
      "       0, 0, 0, 0, 0, 0, 0, 0, 0, 0, 0, 0, 0, 0, 0, 0, 0, 0, 0, 0, 0, 0,\n",
      "       0, 0, 0, 0, 0, 0, 0, 0, 0, 0, 0, 0, 0, 0, 0, 0, 0, 0, 0, 0, 0, 0,\n",
      "       0, 0, 0, 0, 0, 0, 0, 0, 0, 0, 0, 0, 0, 0, 0, 0, 0, 0, 0, 0, 0, 0,\n",
      "       0, 0, 0, 0, 0, 0, 0, 0, 0, 0, 0, 0]))\n"
     ]
    }
   ],
   "source": [
    "# max indices\n",
    "print(np.max(y_density))\n",
    "max_indices = np.where(y_density == np.max(y_density))\n",
    "print(max_indices)"
   ]
  },
  {
   "cell_type": "code",
   "execution_count": 4,
   "metadata": {},
   "outputs": [
    {
     "name": "stdout",
     "output_type": "stream",
     "text": [
      "5.432080035\n",
      "(array([4900, 4901, 4902, 4903, 4904, 4905, 4906, 4907, 4908, 4909, 4910,\n",
      "       4911, 4912, 4913, 4914, 4915, 4916, 4917, 4918, 4919, 4920, 4921,\n",
      "       4922, 4923, 4924, 4925, 4926, 4927, 4928, 4929, 4930, 4931, 4932,\n",
      "       4933, 4934, 4935, 4936, 4937, 4938, 4939, 4940, 4941, 4942, 4943,\n",
      "       4944, 4945, 4946, 4947, 4948, 4949, 4950, 4951, 4952, 4953, 4954,\n",
      "       4955, 4956, 4957, 4958, 4959, 4960, 4961, 4962, 4963, 4964, 4965,\n",
      "       4966, 4967, 4968, 4969, 4970, 4971, 4972, 4973, 4974, 4975, 4976,\n",
      "       4977, 4978, 4979, 4980, 4981, 4982, 4983, 4984, 4985, 4986, 4987,\n",
      "       4988, 4989, 4990, 4991, 4992, 4993, 4994, 4995, 4996, 4997, 4998,\n",
      "       4999, 8700, 8701, 8702, 8703, 8704, 8705, 8706, 8707, 8708, 8709,\n",
      "       8710, 8711, 8712, 8713, 8714, 8715, 8716, 8717, 8718, 8719, 8720,\n",
      "       8721, 8722, 8723, 8724, 8725, 8726, 8727, 8728, 8729, 8730, 8731,\n",
      "       8732, 8733, 8734, 8735, 8736, 8737, 8738, 8739, 8740, 8741, 8742,\n",
      "       8743, 8744, 8745, 8746, 8747, 8748, 8749, 8750, 8751, 8752, 8753,\n",
      "       8754, 8755, 8756, 8757, 8758, 8759, 8760, 8761, 8762, 8763, 8764,\n",
      "       8765, 8766, 8767, 8768, 8769, 8770, 8771, 8772, 8773, 8774, 8775,\n",
      "       8776, 8777, 8778, 8779, 8780, 8781, 8782, 8783, 8784, 8785, 8786,\n",
      "       8787, 8788, 8789, 8790, 8791, 8792, 8793, 8794, 8795, 8796, 8797,\n",
      "       8798, 8799]), array([0, 0, 0, 0, 0, 0, 0, 0, 0, 0, 0, 0, 0, 0, 0, 0, 0, 0, 0, 0, 0, 0,\n",
      "       0, 0, 0, 0, 0, 0, 0, 0, 0, 0, 0, 0, 0, 0, 0, 0, 0, 0, 0, 0, 0, 0,\n",
      "       0, 0, 0, 0, 0, 0, 0, 0, 0, 0, 0, 0, 0, 0, 0, 0, 0, 0, 0, 0, 0, 0,\n",
      "       0, 0, 0, 0, 0, 0, 0, 0, 0, 0, 0, 0, 0, 0, 0, 0, 0, 0, 0, 0, 0, 0,\n",
      "       0, 0, 0, 0, 0, 0, 0, 0, 0, 0, 0, 0, 0, 0, 0, 0, 0, 0, 0, 0, 0, 0,\n",
      "       0, 0, 0, 0, 0, 0, 0, 0, 0, 0, 0, 0, 0, 0, 0, 0, 0, 0, 0, 0, 0, 0,\n",
      "       0, 0, 0, 0, 0, 0, 0, 0, 0, 0, 0, 0, 0, 0, 0, 0, 0, 0, 0, 0, 0, 0,\n",
      "       0, 0, 0, 0, 0, 0, 0, 0, 0, 0, 0, 0, 0, 0, 0, 0, 0, 0, 0, 0, 0, 0,\n",
      "       0, 0, 0, 0, 0, 0, 0, 0, 0, 0, 0, 0, 0, 0, 0, 0, 0, 0, 0, 0, 0, 0,\n",
      "       0, 0]))\n"
     ]
    }
   ],
   "source": [
    "# median indices\n",
    "print(np.median(y_density))\n",
    "med_indices = np.where(np.abs(y_density - np.median(y_density)) < 1e-2)\n",
    "print(med_indices)"
   ]
  },
  {
   "cell_type": "code",
   "execution_count": 5,
   "metadata": {},
   "outputs": [
    {
     "name": "stdout",
     "output_type": "stream",
     "text": [
      "0.0425392576\n",
      "(array([7100, 7101, 7102, 7103, 7104, 7105, 7106, 7107, 7108, 7109, 7110,\n",
      "       7111, 7112, 7113, 7114, 7115, 7116, 7117, 7118, 7119, 7120, 7121,\n",
      "       7122, 7123, 7124, 7125, 7126, 7127, 7128, 7129, 7130, 7131, 7132,\n",
      "       7133, 7134, 7135, 7136, 7137, 7138, 7139, 7140, 7141, 7142, 7143,\n",
      "       7144, 7145, 7146, 7147, 7148, 7149, 7150, 7151, 7152, 7153, 7154,\n",
      "       7155, 7156, 7157, 7158, 7159, 7160, 7161, 7162, 7163, 7164, 7165,\n",
      "       7166, 7167, 7168, 7169, 7170, 7171, 7172, 7173, 7174, 7175, 7176,\n",
      "       7177, 7178, 7179, 7180, 7181, 7182, 7183, 7184, 7185, 7186, 7187,\n",
      "       7188, 7189, 7190, 7191, 7192, 7193, 7194, 7195, 7196, 7197, 7198,\n",
      "       7199]), array([0, 0, 0, 0, 0, 0, 0, 0, 0, 0, 0, 0, 0, 0, 0, 0, 0, 0, 0, 0, 0, 0,\n",
      "       0, 0, 0, 0, 0, 0, 0, 0, 0, 0, 0, 0, 0, 0, 0, 0, 0, 0, 0, 0, 0, 0,\n",
      "       0, 0, 0, 0, 0, 0, 0, 0, 0, 0, 0, 0, 0, 0, 0, 0, 0, 0, 0, 0, 0, 0,\n",
      "       0, 0, 0, 0, 0, 0, 0, 0, 0, 0, 0, 0, 0, 0, 0, 0, 0, 0, 0, 0, 0, 0,\n",
      "       0, 0, 0, 0, 0, 0, 0, 0, 0, 0, 0, 0]))\n"
     ]
    }
   ],
   "source": [
    "# min indices\n",
    "print(np.min(y_density))\n",
    "min_indices = np.where(y_density == np.min(y_density))\n",
    "print(min_indices)"
   ]
  },
  {
   "cell_type": "code",
   "execution_count": 6,
   "metadata": {},
   "outputs": [
    {
     "data": {
      "image/png": "[encoded data removed]",
      "text/plain": [
       "<Figure size 432x288 with 1 Axes>"
      ]
     },
     "metadata": {
      "needs_background": "light"
     },
     "output_type": "display_data"
    }
   ],
   "source": [
    "plt.hist(y_density)\n",
    "plt.title(\"Histogram of density\")\n",
    "plt.xlabel('rho')\n",
    "plt.ylabel('count')\n",
    "plt.show()"
   ]
  },
  {
   "cell_type": "code",
   "execution_count": 12,
   "metadata": {},
   "outputs": [],
   "source": [
    "# plotting image of galaxy (function)\n",
    "random.seed(1)\n",
    "index = random.randint(0,nmodel)\n",
    "\n",
    "# write galaxy plotting function\n",
    "def plot_galaxy(X,y,index):\n",
    "    galaxy_choice = np.matrix(X[index])\n",
    "    plt.imshow(galaxy_choice, interpolation=\"nearest\")\n",
    "    # plt.title('Galaxy #%i, rho: %.2f' % (index,y[index]))\n",
    "    plt.show()\n",
    "    \n",
    "# multiple plots (assumes 2x3 plotting shape)\n",
    "def plot_many_galaxies(X1,y1,indices1,X2,y2,indices2,save):\n",
    "\n",
    "    n = len(indices1)\n",
    "    m = len(indices2)\n",
    "\n",
    "    # use TeX\n",
    "    plt.rc('text', usetex=True)\n",
    "    plt.rc('font', family='serif')\n",
    "    plt.rc('font', size=16)\n",
    "    plt.figure(figsize=(12,8))\n",
    "    \n",
    "    # subplot structure\n",
    "    ax = [plt.subplot(2,3,i+1) for i in range(n+m)] \n",
    "    for a in ax:\n",
    "        a.set_xticklabels([])\n",
    "        a.set_yticklabels([])\n",
    "    plt.subplots_adjust(wspace=0., hspace=0.05)\n",
    "    \n",
    "    ax[0].set_title(r'$\\rho{}_{IGM}$ = '+str(round(y1[indices1[0]][0],3)))\n",
    "    ax[0].set_ylabel('2D Density',size='large')\n",
    "    ax[1].set_title(r'$\\rho{}_{IGM}$ = '+str(round(y1[indices1[1]][0],3)))\n",
    "    ax[2].set_title(r'$\\rho{}_{IGM}$ = '+str(round(y1[indices1[2]][0],3)))\n",
    "    ax[3].set_ylabel('2D Kinematic',size='large')\n",
    "\n",
    "    # density images\n",
    "    for i in range(n):\n",
    "        plt.subplot(2,n,(i+1))\n",
    "        index = indices[i]\n",
    "        plt.imshow(np.matrix(X1[index]),interpolation='nearest')\n",
    "        \n",
    "    # kinematic images\n",
    "    for i in range(m):\n",
    "        plt.subplot(2,m,(4+i))\n",
    "        index = indices[i]\n",
    "        plt.imshow(np.matrix(X2[index]),interpolation='nearest')\n",
    "        \n",
    "    if save:\n",
    "        plt.savefig('Fig2.png')\n",
    "        \n",
    "    plt.show()"
   ]
  },
  {
   "cell_type": "code",
   "execution_count": 8,
   "metadata": {},
   "outputs": [
    {
     "data": {
      "image/png": "[encoded data removed]",
      "text/plain": [
       "<Figure size 432x288 with 1 Axes>"
      ]
     },
     "metadata": {
      "needs_background": "light"
     },
     "output_type": "display_data"
    }
   ],
   "source": [
    "index=9079\n",
    "plot_galaxy(X_density,y_density,index)"
   ]
  },
  {
   "cell_type": "code",
   "execution_count": 18,
   "metadata": {},
   "outputs": [
    {
     "data": {
      "image/png": "[encoded data removed]",
      "text/plain": [
       "<Figure size 864x576 with 6 Axes>"
      ]
     },
     "metadata": {
      "needs_background": "light"
     },
     "output_type": "display_data"
    }
   ],
   "source": [
    "indices = [7185,8785,9085]\n",
    "plot_many_galaxies(X_density,y_density,indices,X_kinematics,y_kinematics,indices,True)"
   ]
  },
  {
   "cell_type": "code",
   "execution_count": null,
   "metadata": {},
   "outputs": [],
   "source": []
  }
 ],
 "metadata": {
  "kernelspec": {
   "display_name": "Python 3",
   "language": "python",
   "name": "python3"
  },
  "language_info": {
   "codemirror_mode": {
    "name": "ipython",
    "version": 3
   },
   "file_extension": ".py",
   "mimetype": "text/x-python",
   "name": "python",
   "nbconvert_exporter": "python",
   "pygments_lexer": "ipython3",
   "version": "3.5.1"
  }
 },
 "nbformat": 4,
 "nbformat_minor": 2
}
